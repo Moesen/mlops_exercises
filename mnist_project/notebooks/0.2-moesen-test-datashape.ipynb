{
 "cells": [
  {
   "cell_type": "code",
   "execution_count": 1,
   "metadata": {},
   "outputs": [],
   "source": [
    "from torch.utils.data import Dataset\n",
    "import torch\n",
    "\n",
    "class CorruptMNISTDataset(Dataset):\n",
    "    def __init__(self, file_path: str, train=True):\n",
    "        file = torch.load(file_path)\n",
    "        if train:\n",
    "            self.x = file[\"train_x\"]\n",
    "            self.Y = file[\"train_Y\"]\n",
    "        else:\n",
    "            self.x = file[\"test_x\"]\n",
    "            self.Y = file[\"test_Y\"]\n",
    "\n",
    "    def __len__(self):\n",
    "        return len(self.Y)\n",
    "\n",
    "    def __getitem__(self, idx):\n",
    "        return self.x[idx], self.Y[idx]"
   ]
  },
  {
   "cell_type": "code",
   "execution_count": 2,
   "metadata": {},
   "outputs": [],
   "source": [
    "data_path = '/home/snoooze/Git/mlops_exercises/mnist_project/data/processed/corrupt_mnist.pt'"
   ]
  },
  {
   "cell_type": "code",
   "execution_count": null,
   "metadata": {},
   "outputs": [],
   "source": [
    "dataset = CorruptMNISTDataset(data_path, train=True)"
   ]
  }
 ],
 "metadata": {
  "interpreter": {
   "hash": "6d0e941124c392971b956b01f75962bcb84d6b1a312d3fd24805aaba0494e834"
  },
  "kernelspec": {
   "display_name": "Python 3.8.12 64-bit ('pokemon': conda)",
   "language": "python",
   "name": "python3"
  },
  "language_info": {
   "codemirror_mode": {
    "name": "ipython",
    "version": 3
   },
   "file_extension": ".py",
   "mimetype": "text/x-python",
   "name": "python",
   "nbconvert_exporter": "python",
   "pygments_lexer": "ipython3",
   "version": "3.8.12"
  },
  "orig_nbformat": 4
 },
 "nbformat": 4,
 "nbformat_minor": 2
}
